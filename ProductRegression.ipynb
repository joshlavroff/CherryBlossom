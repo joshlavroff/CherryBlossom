{
 "cells": [
  {
   "cell_type": "code",
   "execution_count": null,
   "id": "3e979c7b",
   "metadata": {},
   "outputs": [],
   "source": [
    "pip install pandas"
   ]
  },
  {
   "cell_type": "code",
   "execution_count": null,
   "id": "08fbd372-8fad-47fd-9e75-615ff1c3c4c4",
   "metadata": {},
   "outputs": [],
   "source": [
    "pip install tensorflow"
   ]
  },
  {
   "cell_type": "code",
   "execution_count": null,
   "id": "9020ded4-90db-445d-9ef4-aae5fabb70b6",
   "metadata": {},
   "outputs": [],
   "source": [
    "pip install python-dotenv"
   ]
  },
  {
   "cell_type": "code",
   "execution_count": null,
   "id": "7cf86103-f9b4-4ca1-a582-a20e3101959c",
   "metadata": {},
   "outputs": [],
   "source": [
    "import pandas\n",
    "from dotenv import load_dotenv\n",
    "import os\n",
    "import requests\n",
    "import sklearn\n",
    "from sklearn.model_selection import train_test_split\n",
    "import tensorflow"
   ]
  },
  {
   "cell_type": "code",
   "execution_count": null,
   "id": "95de93b4-1c64-40bc-9c58-672b6816c71f",
   "metadata": {},
   "outputs": [],
   "source": [
    "os.environ[\"CUDA_VISIBLE_DEVICES\"] = \"0\""
   ]
  },
  {
   "cell_type": "code",
   "execution_count": null,
   "id": "5f4d0928-0e26-43b1-b1eb-92e555ef8166",
   "metadata": {},
   "outputs": [],
   "source": [
    "tensorflow.config.list_physical_devices('GPU')"
   ]
  },
  {
   "cell_type": "code",
   "execution_count": null,
   "id": "4a81fca4-49df-41f5-8c0a-64d97da1adbf",
   "metadata": {},
   "outputs": [],
   "source": [
    "farfetchData=pandas.read_csv(\"D:/farfetchdataset/current_farfetch_listings.csv\")"
   ]
  },
  {
   "cell_type": "code",
   "execution_count": null,
   "id": "499364e6-0289-4b6a-85eb-2e24831304b9",
   "metadata": {},
   "outputs": [],
   "source": [
    "farfetchData"
   ]
  },
  {
   "cell_type": "code",
   "execution_count": null,
   "id": "b3e81d5a-c534-425b-a432-d4b81bcfee5f",
   "metadata": {},
   "outputs": [],
   "source": [
    "load_dotenv()"
   ]
  },
  {
   "cell_type": "code",
   "execution_count": null,
   "id": "ce99e6fc-e2a4-4fe9-939b-118da639c6ce",
   "metadata": {},
   "outputs": [],
   "source": [
    "CURRENCY_API_KEY=os.getenv(\"CURRENCY_API_KEY\")"
   ]
  },
  {
   "cell_type": "code",
   "execution_count": null,
   "id": "f90a1702-e417-4ad5-a3e5-11b01d937e12",
   "metadata": {},
   "outputs": [],
   "source": [
    "def getExchangeRates(currency):\n",
    "    url='https://v6.exchangerate-api.com/v6/'+CURRENCY_API_KEY+'/latest/'+currency\n",
    "    response=requests.get(url)\n",
    "    return response.json()"
   ]
  },
  {
   "cell_type": "code",
   "execution_count": null,
   "id": "9db0e446-71e4-4ebf-b557-0c12a7cf453d",
   "metadata": {},
   "outputs": [],
   "source": [
    "sgd=getExchangeRates('SGD')"
   ]
  },
  {
   "cell_type": "code",
   "execution_count": null,
   "id": "c702717b-a84e-43e3-90cc-86bbacba371c",
   "metadata": {},
   "outputs": [],
   "source": [
    "sgd['conversion_rates']['USD']"
   ]
  },
  {
   "cell_type": "code",
   "execution_count": null,
   "id": "fd97ccea-ded8-4b48-9a53-1248c4ab5560",
   "metadata": {
    "scrolled": true
   },
   "outputs": [],
   "source": [
    "farfetchData['priceInfo.initialPrice']=farfetchData['priceInfo.initialPrice'].map(lambda x: x*sgd['conversion_rates']['USD'])"
   ]
  },
  {
   "cell_type": "code",
   "execution_count": null,
   "id": "985d2e9c-2c72-41d1-aeb3-9acc9543c567",
   "metadata": {
    "scrolled": true
   },
   "outputs": [],
   "source": [
    "farfetchData['priceInfo.finalPrice']=farfetchData['priceInfo.finalPrice'].map(lambda x: x*sgd['conversion_rates']['USD'])"
   ]
  },
  {
   "cell_type": "code",
   "execution_count": null,
   "id": "290e46ca-dbd5-483e-809a-04f3c8b6b1c0",
   "metadata": {},
   "outputs": [],
   "source": [
    "farfetchData"
   ]
  },
  {
   "cell_type": "code",
   "execution_count": null,
   "id": "f9bc7006-2386-4b30-bed2-473ab2599a13",
   "metadata": {},
   "outputs": [],
   "source": [
    "def roundPrices(price):\n",
    "    if price<100:\n",
    "        return round(price,-1)\n",
    "    else: return round(price,-2)"
   ]
  },
  {
   "cell_type": "code",
   "execution_count": null,
   "id": "de11776d-7705-4010-be7c-a3cf701ee1e5",
   "metadata": {},
   "outputs": [],
   "source": [
    "farfetchData['priceInfo.initialPrice']=farfetchData['priceInfo.initialPrice'].map(roundPrices)"
   ]
  },
  {
   "cell_type": "code",
   "execution_count": null,
   "id": "78b5e200-7979-4c78-916e-613171ee8a77",
   "metadata": {},
   "outputs": [],
   "source": [
    "farfetchData"
   ]
  },
  {
   "cell_type": "code",
   "execution_count": null,
   "id": "112a6fe7-7269-459b-a609-a9a4e99618ca",
   "metadata": {},
   "outputs": [],
   "source": [
    "farfetchData['priceInfo.finalPrice']=farfetchData['priceInfo.finalPrice'].map(roundPrices)"
   ]
  },
  {
   "cell_type": "code",
   "execution_count": null,
   "id": "92544ef7-6877-48c3-a824-b99095f15587",
   "metadata": {},
   "outputs": [],
   "source": [
    "imagesSource=\"D:/farfetchdataset/cutout-img/cutout/\""
   ]
  },
  {
   "cell_type": "code",
   "execution_count": null,
   "id": "53d35106-0e05-494b-b368-103866f78723",
   "metadata": {},
   "outputs": [],
   "source": [
    "images=pandas.concat([farfetchData['images.cutOut'],farfetchData['priceInfo.finalPrice']],axis=1)"
   ]
  },
  {
   "cell_type": "code",
   "execution_count": null,
   "id": "0d8fbb5e-4fdb-4bfd-93ef-793dd570f753",
   "metadata": {},
   "outputs": [],
   "source": [
    "images"
   ]
  },
  {
   "cell_type": "code",
   "execution_count": null,
   "id": "641a6e58-62bf-40e9-a430-6351b09ab092",
   "metadata": {},
   "outputs": [],
   "source": [
    "sampledImages=images.sample(frac=1.0,random_state=1).reset_index(drop=True)"
   ]
  },
  {
   "cell_type": "code",
   "execution_count": null,
   "id": "1fc4c2cb-180f-43aa-a36a-fe45a7a6509e",
   "metadata": {},
   "outputs": [],
   "source": [
    "sampledImages"
   ]
  },
  {
   "cell_type": "code",
   "execution_count": null,
   "id": "37065382-39e4-4d87-a447-d63a552e1a0d",
   "metadata": {},
   "outputs": [],
   "source": [
    "sampledImages['imagePath']=sampledImages['images.cutOut'].map(lambda x: imagesSource+x.split('/')[-1])"
   ]
  },
  {
   "cell_type": "code",
   "execution_count": null,
   "id": "cd06e69a-a3a9-4c99-8b21-3be226e21cc1",
   "metadata": {},
   "outputs": [],
   "source": [
    "sampledImages['imagePath'][0]"
   ]
  },
  {
   "cell_type": "code",
   "execution_count": null,
   "id": "3608e3fc-1988-4041-bb54-2a47a28df091",
   "metadata": {},
   "outputs": [],
   "source": [
    "sampledImages.to_csv('sampledImages.csv')"
   ]
  },
  {
   "cell_type": "code",
   "execution_count": null,
   "id": "985ce95c-efa6-411a-8c13-83d814ddb6fd",
   "metadata": {},
   "outputs": [],
   "source": [
    "train,test=train_test_split(sampledImages,train_size=.7,shuffle=True,random_state=1)"
   ]
  },
  {
   "cell_type": "code",
   "execution_count": null,
   "id": "8d3bf180-1882-4cd4-8907-be4c60edd1c0",
   "metadata": {},
   "outputs": [],
   "source": [
    "train"
   ]
  },
  {
   "cell_type": "code",
   "execution_count": null,
   "id": "f4505d95-be88-4db9-941e-4832b58bc1c2",
   "metadata": {},
   "outputs": [],
   "source": [
    "trainer=tensorflow.keras.preprocessing.image.ImageDataGenerator(rescale=1./255,validation_split=.2)\n",
    "tester=tensorflow.keras.preprocessing.image.ImageDataGenerator(rescale=1./255,)"
   ]
  },
  {
   "cell_type": "code",
   "execution_count": null,
   "id": "e5db3a98-ee95-4f28-8272-f98c10fd9e65",
   "metadata": {},
   "outputs": [],
   "source": [
    "trainImages=trainer.flow_from_dataframe(dataframe=train,\n",
    "                            x_col='imagePath',\n",
    "                            y_col='priceInfo.finalPrice',\n",
    "                            target_size=(120,120),\n",
    "                            color_mode='rgb',\n",
    "                           class_mode='raw',\n",
    "                           batch_size=32,\n",
    "                           shuffle=True,\n",
    "                           seed=42,\n",
    "                           subset='training')\n",
    "\n",
    "valImages=trainer.flow_from_dataframe(dataframe=train,\n",
    "                            x_col='imagePath',\n",
    "                            y_col='priceInfo.finalPrice',\n",
    "                            target_size=(120,120),\n",
    "                            color_mode='rgb',\n",
    "                           class_mode='raw',\n",
    "                           batch_size=32,\n",
    "                           shuffle=True,\n",
    "                           seed=42,\n",
    "                           subset='validation')\n",
    "\n",
    "testImages=tester.flow_from_dataframe(dataframe=test,\n",
    "                            x_col='imagePath',\n",
    "                            y_col='priceInfo.finalPrice',\n",
    "                            target_size=(120,120),\n",
    "                            color_mode='rgb',\n",
    "                           class_mode='raw',\n",
    "                           batch_size=32,\n",
    "                           shuffle=False)"
   ]
  },
  {
   "cell_type": "code",
   "execution_count": null,
   "id": "be3130bb-0698-4513-83f8-bad496e93f65",
   "metadata": {},
   "outputs": [],
   "source": [
    "print(\"Num GPUs Available: \", len(tensorflow.config.list_physical_devices('GPU')))"
   ]
  },
  {
   "cell_type": "code",
   "execution_count": null,
   "id": "493b6632-937d-4df1-8a57-c6114c28e413",
   "metadata": {},
   "outputs": [],
   "source": [
    "input=tensorflow.keras.Input(shape=(120,120,3))\n",
    "cnn=tensorflow.keras.layers.Conv2D(filters=16,kernel_size=(3,3),activation='relu')(input)\n",
    "cnn=tensorflow.keras.layers.MaxPool2D()(cnn)\n",
    "cnn=tensorflow.keras.layers.Conv2D(filters=32,kernel_size=(3,3),activation='relu')(cnn)\n",
    "cnn=tensorflow.keras.layers.MaxPool2D()(cnn)\n",
    "cnn=tensorflow.keras.layers.GlobalAveragePooling2D()(cnn)\n",
    "cnn=tensorflow.keras.layers.Dense(64,activation='relu')(cnn)\n",
    "output=tensorflow.keras.layers.Dense(1,activation='linear')(cnn)\n",
    "model=tensorflow.keras.Model(inputs=input,outputs=output)\n",
    "\n",
    "model.compile(optimizer='adam',loss='mse')\n",
    "\n",
    "history=model.fit(trainImages,validation_data=valImages,\n",
    "                  epochs=100,\n",
    "                  callbacks=[tensorflow.keras.callbacks.EarlyStopping(monitor='val_loss',patience=5)])"
   ]
  },
  {
   "cell_type": "code",
   "execution_count": null,
   "id": "0c358b83-2e45-4355-a9c0-c0d437225616",
   "metadata": {},
   "outputs": [],
   "source": [
    "pred=numpy.squeeze(model.predict(testImages))"
   ]
  },
  {
   "cell_type": "code",
   "execution_count": null,
   "id": "705c990c-c554-4424-9717-f0aef8984091",
   "metadata": {},
   "outputs": [],
   "source": [
    "rootMeanSq=numpy.sqrt(model.evaluate(testImages))\n",
    "print(rootMeanSq)"
   ]
  }
 ],
 "metadata": {
  "kernelspec": {
   "display_name": "Python 3 (ipykernel)",
   "language": "python",
   "name": "python3"
  },
  "language_info": {
   "codemirror_mode": {
    "name": "ipython",
    "version": 3
   },
   "file_extension": ".py",
   "mimetype": "text/x-python",
   "name": "python",
   "nbconvert_exporter": "python",
   "pygments_lexer": "ipython3",
   "version": "3.12.4"
  }
 },
 "nbformat": 4,
 "nbformat_minor": 5
}
